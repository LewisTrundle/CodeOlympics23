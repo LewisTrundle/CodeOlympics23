{
 "cells": [
  {
   "cell_type": "code",
   "execution_count": 9,
   "metadata": {},
   "outputs": [
    {
     "name": "stdout",
     "output_type": "stream",
     "text": [
      "sixteen hundred hours\n",
      "eleven hundred hours\n",
      "\n",
      "eleven twenty-three\n",
      "eighteen forty-five\n",
      "\n",
      "zero seven forty-five\n",
      "seventeen zero five\n",
      "zero four zero nine\n",
      "\n",
      "zero twelve\n",
      "zero hundred hours\n"
     ]
    }
   ],
   "source": [
    "from num2words import num2words\n",
    "from datetime import datetime\n",
    "\n",
    "def convert_military(base):\n",
    "    time = datetime.strptime(base, \"%I:%M%p\")\n",
    "\n",
    "    if (time.minute == 0):\n",
    "        return f\"{num2words(time.hour)} hundred hours\"\n",
    "    \n",
    "    hour = num2words(time.hour)\n",
    "    if (len(str(time.hour)) == 1 and not time.hour == 0):\n",
    "        hour = \"zero \" + hour\n",
    "    \n",
    "    minute = num2words(time.minute)\n",
    "    if (len(str(time.minute)) == 1):\n",
    "        minute = \"zero \" + minute\n",
    "\n",
    "    return f\"{hour} {minute}\"\n",
    "    \n",
    "\n",
    "# TEST CASES\n",
    "print(convert_military(\"4:00PM\"))\n",
    "print(convert_military(\"11:00AM\"))\n",
    "print()\n",
    "\n",
    "print(convert_military(\"11:23AM\"))\n",
    "print(convert_military(\"6:45PM\"))\n",
    "print()\n",
    "\n",
    "print(convert_military(\"7:45AM\"))\n",
    "print(convert_military(\"5:05PM\"))\n",
    "print(convert_military(\"4:09AM\"))\n",
    "print()\n",
    "\n",
    "print(convert_military(\"12:12AM\"))\n",
    "print(convert_military(\"12:00AM\"))"
   ]
  },
  {
   "cell_type": "code",
   "execution_count": 3,
   "metadata": {},
   "outputs": [
    {
     "data": {
      "text/plain": [
       "'fourteen forty-five'"
      ]
     },
     "execution_count": 3,
     "metadata": {},
     "output_type": "execute_result"
    }
   ],
   "source": [
    "def military_time_converter():\n",
    "    return convert_military(input(\"Enter a 'normal' time format: \"))\n",
    "\n",
    "military_time_converter()"
   ]
  }
 ],
 "metadata": {
  "kernelspec": {
   "display_name": "Python 3",
   "language": "python",
   "name": "python3"
  },
  "language_info": {
   "codemirror_mode": {
    "name": "ipython",
    "version": 3
   },
   "file_extension": ".py",
   "mimetype": "text/x-python",
   "name": "python",
   "nbconvert_exporter": "python",
   "pygments_lexer": "ipython3",
   "version": "3.9.2"
  },
  "orig_nbformat": 4,
  "vscode": {
   "interpreter": {
    "hash": "67f71cad8bb00401cc70b562b4176ce68c52a737baafa4e0e01596c30c42a5b8"
   }
  }
 },
 "nbformat": 4,
 "nbformat_minor": 2
}
