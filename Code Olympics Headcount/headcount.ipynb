{
 "cells": [
  {
   "cell_type": "code",
   "execution_count": 41,
   "metadata": {},
   "outputs": [
    {
     "name": "stdout",
     "output_type": "stream",
     "text": [
      "[0 1 6 7]\n",
      "[ 8  9 11 12 14 15]\n",
      "[19 20]\n",
      "[24 25 27 28 30 31]\n",
      "[32 33 38 39]\n",
      "[{0: [0, 1], 1: [6, 7]}, {0: [8, 9], 1: [11, 12], 2: [14, 15]}, {0: [19, 20]}, {0: [24, 25], 1: [27, 28], 2: [30, 31]}, {0: [32, 33], 1: [38, 39]}]\n",
      "{0: [0, 1], 1: [6, 7]}\n",
      "{0: [8, 9], 1: [11, 12], 2: [14, 15]}\n",
      "{0: [19, 20]}\n",
      "{0: [24, 25], 1: [27, 28], 2: [30, 31]}\n",
      "{0: [32, 33], 1: [38, 39]}\n"
     ]
    }
   ],
   "source": [
    "import numpy as np\n",
    "\n",
    "code_olympics = np.array([[1,1,0,0,0,0,1,1],\n",
    "                          [1,1,0,1,1,0,1,1],\n",
    "                          [0,0,0,1,1,0,0,0],\n",
    "                          [1,1,0,1,1,0,1,1],\n",
    "                          [1,1,0,0,0,0,1,1]])\n",
    "\n",
    "\n",
    "def teamify(people):\n",
    "    teams = {}\n",
    "    team_num = 0\n",
    "    i = 0\n",
    "    while i+1 < len(people):\n",
    "        if abs(people[i] - people[i+1]) == 1:\n",
    "            if team_num in teams:\n",
    "                teams[team_num].append(people[i], people[i+1])\n",
    "            else:\n",
    "                teams[team_num] = [people[i], people[i+1]]\n",
    "        else:\n",
    "            team_num += 1\n",
    "        i += 1\n",
    "    \n",
    "    return teams\n",
    "\n",
    "co_teams = []\n",
    "def parse_row(row, row_num):\n",
    "    people = row_num*len(row) + np.where(row)[0]\n",
    "    print(people)\n",
    "    co_teams.append(teamify(people))\n",
    "\n",
    "co_teams_grouped = {}\n",
    "def parse_matrix(matrix):\n",
    "    for i, row in enumerate(matrix):\n",
    "        parse_row(row, i)\n",
    "    \n",
    "    print(co_teams)\n",
    "\n",
    "    for c in range(len(co_teams)):\n",
    "        print(co_teams[c])\n",
    "\n",
    "        # for tn, team in enumerate(co_teams[c].values()):\n",
    "        #     print(tn)\n",
    "        #     print(team)\n",
    "        #     for team2 in co_teams[c+1].values(): \n",
    "        #         if team[0] == (team2[0] % matrix.shape[0]):\n",
    "        #             if tn in co_teams_grouped:\n",
    "        #                 co_teams_grouped[tn].append(team + team2[0])\n",
    "        #             else:\n",
    "        #                 co_teams_grouped[tn] = team + team2[0]\n",
    "\n",
    "\n",
    "parse_matrix(code_olympics)"
   ]
  }
 ],
 "metadata": {
  "kernelspec": {
   "display_name": "Python 3",
   "language": "python",
   "name": "python3"
  },
  "language_info": {
   "codemirror_mode": {
    "name": "ipython",
    "version": 3
   },
   "file_extension": ".py",
   "mimetype": "text/x-python",
   "name": "python",
   "nbconvert_exporter": "python",
   "pygments_lexer": "ipython3",
   "version": "3.9.2"
  },
  "orig_nbformat": 4,
  "vscode": {
   "interpreter": {
    "hash": "67f71cad8bb00401cc70b562b4176ce68c52a737baafa4e0e01596c30c42a5b8"
   }
  }
 },
 "nbformat": 4,
 "nbformat_minor": 2
}
