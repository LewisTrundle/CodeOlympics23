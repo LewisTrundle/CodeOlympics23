{
 "cells": [
  {
   "cell_type": "code",
   "execution_count": 33,
   "metadata": {},
   "outputs": [
    {
     "name": "stdout",
     "output_type": "stream",
     "text": [
      "38\n"
     ]
    }
   ],
   "source": [
    "import sys\n",
    "import random\n",
    "\n",
    "def invert(b):\n",
    "    if b == \"0\":\n",
    "        return \"1\"\n",
    "    else:\n",
    "        return \"0\"\n",
    "\n",
    "def is_valid(s, i):\n",
    "    # First char\n",
    "    if i+1 < len(s) and s[i] == s[i+1]:\n",
    "        # Middle char\n",
    "        if i-1 > 0 and s[i] == s[i-1]:\n",
    "            return False\n",
    "        # Last char\n",
    "        if i+2 < len(s) and s[i] == s[i+2]:\n",
    "            return False\n",
    "    \n",
    "    return True\n",
    "\n",
    "def less_than_3(n, s, t):\n",
    "    counts = 0\n",
    "    for _ in range(10000):\n",
    "        rnd_i = random.randint(0, n-1)\n",
    "\n",
    "        s_ = s[:rnd_i] + invert(s[rnd_i])\n",
    "        if rnd_i+1 < len(s):\n",
    "            s_ += s[rnd_i+1:]\n",
    "\n",
    "        if is_valid(s_, rnd_i):\n",
    "            counts += 1\n",
    "            s = s_\n",
    "\n",
    "        if s == t:\n",
    "            return counts\n",
    "\n",
    "print(less_than_3(4, \"0011\", \"0101\"))\n",
    "\n",
    "# lines = [line for line in sys.stdin]\n",
    "# print(less_than_3(int(lines[0]), lines[1], lines[2]))"
   ]
  }
 ],
 "metadata": {
  "kernelspec": {
   "display_name": "Python 3",
   "language": "python",
   "name": "python3"
  },
  "language_info": {
   "codemirror_mode": {
    "name": "ipython",
    "version": 3
   },
   "file_extension": ".py",
   "mimetype": "text/x-python",
   "name": "python",
   "nbconvert_exporter": "python",
   "pygments_lexer": "ipython3",
   "version": "3.9.2"
  },
  "orig_nbformat": 4,
  "vscode": {
   "interpreter": {
    "hash": "67f71cad8bb00401cc70b562b4176ce68c52a737baafa4e0e01596c30c42a5b8"
   }
  }
 },
 "nbformat": 4,
 "nbformat_minor": 2
}
