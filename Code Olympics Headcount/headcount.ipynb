{
 "cells": [
  {
   "cell_type": "code",
   "execution_count": 1,
   "metadata": {},
   "outputs": [
    {
     "name": "stdout",
     "output_type": "stream",
     "text": [
      "[[1 1 0 0 0 0 1 1]\n",
      " [1 1 0 1 1 0 1 1]\n",
      " [0 0 0 1 1 0 0 0]\n",
      " [1 1 0 1 1 0 1 1]\n",
      " [1 1 0 0 0 0 1 1]]\n"
     ]
    }
   ],
   "source": [
    "import numpy as np\n",
    "\n",
    "code_olympics = np.array([[1,1,0,0,0,0,1,1],\n",
    "                          [1,1,0,1,1,0,1,1],\n",
    "                          [0,0,0,1,1,0,0,0],\n",
    "                          [1,1,0,1,1,0,1,1],\n",
    "                          [1,1,0,0,0,0,1,1]])\n",
    "\n",
    "team_per_row = {}\n",
    "\n",
    "def parse_row(row):\n",
    "    np"
   ]
  }
 ],
 "metadata": {
  "kernelspec": {
   "display_name": "Python 3",
   "language": "python",
   "name": "python3"
  },
  "language_info": {
   "codemirror_mode": {
    "name": "ipython",
    "version": 3
   },
   "file_extension": ".py",
   "mimetype": "text/x-python",
   "name": "python",
   "nbconvert_exporter": "python",
   "pygments_lexer": "ipython3",
   "version": "3.9.2"
  },
  "orig_nbformat": 4,
  "vscode": {
   "interpreter": {
    "hash": "67f71cad8bb00401cc70b562b4176ce68c52a737baafa4e0e01596c30c42a5b8"
   }
  }
 },
 "nbformat": 4,
 "nbformat_minor": 2
}
