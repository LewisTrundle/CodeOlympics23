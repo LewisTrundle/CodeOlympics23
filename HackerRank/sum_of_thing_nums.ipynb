{
 "cells": [
  {
   "cell_type": "code",
   "execution_count": 1,
   "metadata": {},
   "outputs": [
    {
     "name": "stdout",
     "output_type": "stream",
     "text": [
      "30\n",
      "138\n"
     ]
    }
   ],
   "source": [
    "import sys\n",
    "import math\n",
    "\n",
    "def f(b, n):\n",
    "    if n < b:\n",
    "        return n\n",
    "    else:\n",
    "        return f(b, math.floor(n/b)) + (n % b)\n",
    "\n",
    "def run(n, s):\n",
    "    for b in range(1, n):\n",
    "        if f(b, n) == s:\n",
    "            print(b)\n",
    "    print(-1)\n",
    "\n",
    "print(f(10, 87654))\n",
    "print(f(100, 87654))\n",
    "\n",
    "# print(run(100000000000, 1))\n",
    "# lines = [line for line in sys.stdin]\n",
    "# run(lines[0], lines[1])"
   ]
  }
 ],
 "metadata": {
  "kernelspec": {
   "display_name": "Python 3",
   "language": "python",
   "name": "python3"
  },
  "language_info": {
   "codemirror_mode": {
    "name": "ipython",
    "version": 3
   },
   "file_extension": ".py",
   "mimetype": "text/x-python",
   "name": "python",
   "nbconvert_exporter": "python",
   "pygments_lexer": "ipython3",
   "version": "3.9.2"
  },
  "orig_nbformat": 4,
  "vscode": {
   "interpreter": {
    "hash": "67f71cad8bb00401cc70b562b4176ce68c52a737baafa4e0e01596c30c42a5b8"
   }
  }
 },
 "nbformat": 4,
 "nbformat_minor": 2
}
