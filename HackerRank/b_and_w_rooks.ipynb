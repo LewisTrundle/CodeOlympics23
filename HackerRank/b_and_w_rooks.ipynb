{
 "cells": [
  {
   "cell_type": "code",
   "execution_count": 9,
   "metadata": {},
   "outputs": [
    {
     "name": "stdout",
     "output_type": "stream",
     "text": [
      "4\n",
      "0\n",
      "0\n"
     ]
    }
   ],
   "source": [
    "import sys\n",
    "\n",
    "def make_grid(N, M):\n",
    "    grid = []\n",
    "    for _ in range(N):\n",
    "        grid.append([0]*M)\n",
    "    \n",
    "    return grid\n",
    "\n",
    "def calc_perms(N, M, B, W):\n",
    "    total_pieces = B + W\n",
    "    perms = N*M\n",
    "    for i in range(1, total_pieces):\n",
    "        perms *= (N-i)*(M-i)\n",
    "    \n",
    "    return perms\n",
    "\n",
    "print(calc_perms(2, 2, 1, 1))\n",
    "print(calc_perms(1, 2, 1, 1))\n",
    "print(calc_perms(3, 3, 1, 3))"
   ]
  }
 ],
 "metadata": {
  "kernelspec": {
   "display_name": "Python 3",
   "language": "python",
   "name": "python3"
  },
  "language_info": {
   "codemirror_mode": {
    "name": "ipython",
    "version": 3
   },
   "file_extension": ".py",
   "mimetype": "text/x-python",
   "name": "python",
   "nbconvert_exporter": "python",
   "pygments_lexer": "ipython3",
   "version": "3.9.2"
  },
  "orig_nbformat": 4,
  "vscode": {
   "interpreter": {
    "hash": "67f71cad8bb00401cc70b562b4176ce68c52a737baafa4e0e01596c30c42a5b8"
   }
  }
 },
 "nbformat": 4,
 "nbformat_minor": 2
}
